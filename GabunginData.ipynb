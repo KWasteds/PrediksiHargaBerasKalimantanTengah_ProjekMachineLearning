{
 "cells": [
  {
   "cell_type": "code",
   "execution_count": 31,
   "id": "119a053c-cd0f-431a-aabc-e4e52b8bc327",
   "metadata": {},
   "outputs": [
    {
     "name": "stdout",
     "output_type": "stream",
     "text": [
      "✅ Dataset berhasil dibuat! Hanya berisi harga rata-rata beras per tanggal.\n"
     ]
    }
   ],
   "source": [
    "import pandas as pd\n",
    "\n",
    "# Daftar file\n",
    "files = [\n",
    "    \"Dataset/KaTeng2017.xlsx\",\n",
    "    \"Dataset/KaTeng2018.xlsx\",\n",
    "    \"Dataset/KaTeng2019.xlsx\",\n",
    "    \"Dataset/KaTeng2020.xlsx\",\n",
    "    \"Dataset/KaTeng2021.xlsx\",\n",
    "    \"Dataset/KaTeng2022.xlsx\",\n",
    "    \"Dataset/KaTeng2023.xlsx\",\n",
    "    \"Dataset/KaTeng2024.xlsx\",\n",
    "    \"Dataset/KaTeng2025.xlsx\"\n",
    "]\n",
    "\n",
    "dfs = []\n",
    "\n",
    "for f in files:\n",
    "    df = pd.read_excel(f)\n",
    "    \n",
    "    # Ambil hanya baris \"Beras\"\n",
    "    df_beras = df[df[\"Komoditas (Rp)\"] == \"Beras\"]\n",
    "    \n",
    "    # Ubah dari wide → long\n",
    "    value_vars = df_beras.columns[2:]  # kolom tanggal\n",
    "    df_long = df_beras.melt(id_vars=[\"Komoditas (Rp)\"], value_vars=value_vars,\n",
    "                            var_name=\"date\", value_name=\"harga_beras_kateng\")\n",
    "    \n",
    "    # Hilangkan kolom 'Komoditas (Rp)' karena sudah pasti \"Beras\"\n",
    "    df_long = df_long.drop(columns=[\"Komoditas (Rp)\"])\n",
    "    \n",
    "    dfs.append(df_long)\n",
    "\n",
    "# Gabungkan semua tahun\n",
    "gabungan = pd.concat(dfs, ignore_index=True)\n",
    "\n",
    "# Simpan hasil ke Excel\n",
    "gabungan.to_excel(\"KaTeng_Beras.xlsx\", index=False)\n",
    "\n",
    "print(\"✅ Dataset berhasil dibuat! Hanya berisi harga rata-rata beras per tanggal.\")"
   ]
  },
  {
   "cell_type": "code",
   "execution_count": 33,
   "id": "5858c66a-dc40-4b26-a39a-03abdf24dfed",
   "metadata": {},
   "outputs": [
    {
     "name": "stdout",
     "output_type": "stream",
     "text": [
      "✅ Dataset berhasil dibuat! Hanya berisi harga rata-rata beras per tanggal.\n"
     ]
    }
   ],
   "source": [
    "import pandas as pd\n",
    "\n",
    "# Fungsi untuk membuat nama kolom unik\n",
    "def make_unique(cols):\n",
    "    seen = {}\n",
    "    new_cols = []\n",
    "    for col in cols:\n",
    "        if col not in seen:\n",
    "            seen[col] = 0\n",
    "            new_cols.append(col)\n",
    "        else:\n",
    "            seen[col] += 1\n",
    "            new_cols.append(f\"{col}_{seen[col]}\")\n",
    "    return new_cols\n",
    "\n",
    "# Daftar file\n",
    "files = [\n",
    "    \"Dataset/Nasional2017.xlsx\",\n",
    "    \"Dataset/Nasional2018.xlsx\",\n",
    "    \"Dataset/Nasional2019.xlsx\",\n",
    "    \"Dataset/Nasional2020.xlsx\",\n",
    "    \"Dataset/Nasional2021.xlsx\",\n",
    "    \"Dataset/Nasional2022.xlsx\",\n",
    "    \"Dataset/Nasional2023.xlsx\",\n",
    "    \"Dataset/Nasional2024.xlsx\",\n",
    "    \"Dataset/Nasional2025.xlsx\"\n",
    "]\n",
    "\n",
    "dfs = []\n",
    "\n",
    "for f in files:\n",
    "    df = pd.read_excel(f)\n",
    "    \n",
    "    # Ambil hanya baris \"Beras\"\n",
    "    df_beras = df[df[\"Komoditas (Rp)\"] == \"Beras\"]\n",
    "    \n",
    "    # Ubah dari wide → long\n",
    "    value_vars = df_beras.columns[2:]  # kolom tanggal\n",
    "    df_long = df_beras.melt(id_vars=[\"Komoditas (Rp)\"], value_vars=value_vars,\n",
    "                            var_name=\"date\", value_name=\"harga_beras_nasional\")\n",
    "    \n",
    "    # Hilangkan kolom 'Komoditas (Rp)' karena sudah pasti \"Beras\"\n",
    "    df_long = df_long.drop(columns=[\"Komoditas (Rp)\"])\n",
    "    \n",
    "    dfs.append(df_long)\n",
    "\n",
    "# Gabungkan semua tahun\n",
    "gabungan = pd.concat(dfs, ignore_index=True)\n",
    "\n",
    "# Simpan hasil ke Excel\n",
    "gabungan.to_excel(\"Nasional_Beras.xlsx\", index=False)\n",
    "\n",
    "print(\"✅ Dataset berhasil dibuat! Hanya berisi harga rata-rata beras per tanggal.\")"
   ]
  },
  {
   "cell_type": "code",
   "execution_count": null,
   "id": "93a8bf96-4b16-4a86-addb-e801a37bd675",
   "metadata": {},
   "outputs": [],
   "source": []
  }
 ],
 "metadata": {
  "kernelspec": {
   "display_name": "Python [conda env:base] *",
   "language": "python",
   "name": "conda-base-py"
  },
  "language_info": {
   "codemirror_mode": {
    "name": "ipython",
    "version": 3
   },
   "file_extension": ".py",
   "mimetype": "text/x-python",
   "name": "python",
   "nbconvert_exporter": "python",
   "pygments_lexer": "ipython3",
   "version": "3.12.7"
  }
 },
 "nbformat": 4,
 "nbformat_minor": 5
}
